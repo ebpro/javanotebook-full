{
 "cells": [
  {
   "cell_type": "markdown",
   "id": "fde2859a-baa1-43fa-8fc0-c32f82210327",
   "metadata": {
    "tags": []
   },
   "source": [
    "# Une introduction au langage Java\n",
    "\n",
    "\n",
    "1. [Les bases de Java](01-base/index.ipynb)\n",
    "1. [La connection aux bases de données relationnelles avec JDBC](02-jdbc/index.ipynb)\n",
    "1. La programmation réseau avec des protocoles \"Web\"\n",
    "      1. [Les API REST avec JAX-RS](04-jaxrs/index.ipynb)\n",
    "      1. [Les Websockets](05-websockets/index.ipynb)\n",
    "1. [Les annotations](06-annotations/index.ipynb)\n",
    "  "
   ]
  },
  {
   "cell_type": "code",
   "execution_count": null,
   "id": "9e092476-4894-40f7-b37c-3731e14c8707",
   "metadata": {},
   "outputs": [],
   "source": []
  }
 ],
 "metadata": {
  "kernelspec": {
   "display_name": "Java [conda env:root] *",
   "language": "java",
   "name": "conda-root-java"
  },
  "language_info": {
   "codemirror_mode": "java",
   "file_extension": ".jshell",
   "mimetype": "text/x-java-source",
   "name": "Java",
   "pygments_lexer": "java",
   "version": "19+36"
  }
 },
 "nbformat": 4,
 "nbformat_minor": 5
}
